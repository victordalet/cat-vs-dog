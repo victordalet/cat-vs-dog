{
 "cells": [
  {
   "cell_type": "code",
   "execution_count": 2,
   "id": "2171a811",
   "metadata": {},
   "outputs": [],
   "source": [
    "import numpy as np\n",
    "import matplotlib.pyplot as plt\n",
    "from sklearn.datasets import make_blobs"
   ]
  },
  {
   "cell_type": "code",
   "execution_count": 5,
   "id": "e476b0d9",
   "metadata": {},
   "outputs": [
    {
     "name": "stdout",
     "output_type": "stream",
     "text": [
      "dimensions de X (100, 2)\n",
      "dimensions de y (100, 1)\n"
     ]
    },
    {
     "data": {
      "image/png": "[encoded data removed]",
      "text/plain": [
       "<Figure size 432x288 with 1 Axes>"
      ]
     },
     "metadata": {
      "needs_background": "light"
     },
     "output_type": "display_data"
    }
   ],
   "source": [
    "X , y = make_blobs(n_samples = 100 ,n_features = 2 , centers = 2 , random_state = 0 )\n",
    "y = y.reshape((y.shape[0],1))\n",
    "print('dimensions de X {}'.format(X.shape))\n",
    "print('dimensions de y {}'.format(y.shape))\n",
    "\n",
    "plt.scatter(X[:,0],X[:,1],c=y,cmap = 'summer')\n",
    "plt.show()"
   ]
  },
  {
   "cell_type": "code",
   "execution_count": 22,
   "id": "f8ca244c",
   "metadata": {},
   "outputs": [],
   "source": [
    "def initialisation(x):\n",
    "    W = np.random.randn(X.shape[1],1)\n",
    "    b = np.random.randn(1)\n",
    "    return(W,b)"
   ]
  },
  {
   "cell_type": "code",
   "execution_count": 23,
   "id": "6653c5f1",
   "metadata": {},
   "outputs": [],
   "source": [
    "def model(X , W , b):\n",
    "    Z = X.dot(W) + b\n",
    "    A = 1 / (1+ np.exp(-Z))\n",
    "    return A"
   ]
  },
  {
   "cell_type": "code",
   "execution_count": 30,
   "id": "42f4e5a3",
   "metadata": {},
   "outputs": [],
   "source": [
    "def log_loss(A , y):\n",
    "    return 1/len(y) * np.sum(-y * np.log(A) - (1-y) * np.log(1-A))"
   ]
  },
  {
   "cell_type": "code",
   "execution_count": 32,
   "id": "fb228254",
   "metadata": {},
   "outputs": [],
   "source": [
    "def gradients(A , X , y):\n",
    "    dW =  1 / len(y) * np.dot(X.T , A - y)\n",
    "    db = 1/ len(y) * np.sum(A - y)\n",
    "    return (dW , db)"
   ]
  },
  {
   "cell_type": "code",
   "execution_count": 26,
   "id": "5be89603",
   "metadata": {},
   "outputs": [],
   "source": [
    "def update(dW , db , W , b ,learning_rate):\n",
    "    W = W - learning_rate * dW\n",
    "    b = b - learning_rate * db\n",
    "    return (W,b)"
   ]
  },
  {
   "cell_type": "code",
   "execution_count": 44,
   "id": "450972da",
   "metadata": {},
   "outputs": [],
   "source": [
    "def predict(X ,W , b):\n",
    "    A = model(X ,W , b)\n",
    "    print(A)\n",
    "    return A >= 0.5"
   ]
  },
  {
   "cell_type": "code",
   "execution_count": 28,
   "id": "dd01c838",
   "metadata": {},
   "outputs": [],
   "source": [
    "from sklearn.metrics import accuracy_score"
   ]
  },
  {
   "cell_type": "code",
   "execution_count": 61,
   "id": "ece5a73b",
   "metadata": {},
   "outputs": [],
   "source": [
    "def artificial_neuron(X, y, learning_rate = 0.1, n_iter = 100):\n",
    "    # initialisation W, b\n",
    "    W, b = initialisation(X)\n",
    "\n",
    "    Loss = []\n",
    "\n",
    "    for i in range(n_iter):\n",
    "        A = model(X, W, b)\n",
    "        Loss.append(log_loss(A, y))\n",
    "        dW, db = gradients(A, X, y)\n",
    "        W, b = update(dW, db, W, b, learning_rate)\n",
    "\n",
    "    y_pred = predict(X, W, b)\n",
    "    print(accuracy_score(y, y_pred))\n",
    "\n",
    "    plt.plot(Loss)\n",
    "    plt.show()\n",
    "\n",
    "    return (W, b)"
   ]
  },
  {
   "cell_type": "code",
   "execution_count": 62,
   "id": "47ec4596",
   "metadata": {},
   "outputs": [
    {
     "name": "stdout",
     "output_type": "stream",
     "text": [
      "[[9.64744754e-01]\n",
      " [8.44091313e-01]\n",
      " [4.49348433e-03]\n",
      " [1.73154960e-01]\n",
      " [9.69155159e-01]\n",
      " [3.65111493e-01]\n",
      " [6.24824661e-02]\n",
      " [9.45515302e-01]\n",
      " [4.45658020e-02]\n",
      " [9.16639119e-01]\n",
      " [2.69144649e-02]\n",
      " [9.12194141e-01]\n",
      " [1.86627573e-02]\n",
      " [1.62452175e-02]\n",
      " [7.62609654e-01]\n",
      " [9.82849291e-01]\n",
      " [9.93980721e-01]\n",
      " [3.47869985e-02]\n",
      " [8.21153444e-01]\n",
      " [7.13865815e-01]\n",
      " [3.61715002e-02]\n",
      " [3.16211724e-02]\n",
      " [4.27031382e-01]\n",
      " [4.26810176e-03]\n",
      " [9.63941391e-01]\n",
      " [2.60706107e-02]\n",
      " [9.33062824e-01]\n",
      " [5.52611167e-03]\n",
      " [5.24327623e-02]\n",
      " [7.63346223e-01]\n",
      " [9.86152806e-01]\n",
      " [3.58856534e-02]\n",
      " [7.56172079e-01]\n",
      " [9.86352508e-01]\n",
      " [4.20131075e-01]\n",
      " [1.96115577e-01]\n",
      " [8.39285538e-01]\n",
      " [5.66903480e-01]\n",
      " [4.62665012e-01]\n",
      " [5.51335553e-01]\n",
      " [7.99242989e-02]\n",
      " [4.54235353e-02]\n",
      " [6.25249450e-04]\n",
      " [1.56988515e-01]\n",
      " [2.15832319e-01]\n",
      " [8.67112894e-01]\n",
      " [9.79596156e-01]\n",
      " [9.77350297e-01]\n",
      " [4.29474135e-03]\n",
      " [6.88194063e-03]\n",
      " [9.60005367e-01]\n",
      " [6.56630482e-01]\n",
      " [2.59608117e-02]\n",
      " [3.05572505e-02]\n",
      " [8.06246849e-01]\n",
      " [3.40763044e-02]\n",
      " [7.00134809e-01]\n",
      " [8.72474245e-01]\n",
      " [9.58399217e-01]\n",
      " [9.94376789e-01]\n",
      " [7.10730267e-01]\n",
      " [1.53182124e-01]\n",
      " [3.93570034e-03]\n",
      " [9.39380405e-01]\n",
      " [9.67938954e-03]\n",
      " [3.78913422e-01]\n",
      " [3.62561666e-02]\n",
      " [5.91724810e-01]\n",
      " [9.49142002e-01]\n",
      " [2.54095338e-01]\n",
      " [1.71634174e-01]\n",
      " [9.48765843e-01]\n",
      " [9.70729030e-01]\n",
      " [9.01401409e-02]\n",
      " [1.42756182e-01]\n",
      " [3.64326926e-02]\n",
      " [6.06616956e-01]\n",
      " [8.84518526e-01]\n",
      " [4.57338414e-02]\n",
      " [2.77611954e-02]\n",
      " [2.91340450e-01]\n",
      " [9.18941868e-02]\n",
      " [3.47490298e-03]\n",
      " [9.39754622e-02]\n",
      " [1.07192858e-01]\n",
      " [1.09349737e-02]\n",
      " [9.77119593e-01]\n",
      " [4.46425425e-02]\n",
      " [8.64635829e-01]\n",
      " [9.67481458e-01]\n",
      " [9.12140254e-01]\n",
      " [9.86134561e-01]\n",
      " [5.08460333e-01]\n",
      " [9.61940869e-01]\n",
      " [2.65827138e-01]\n",
      " [1.17351944e-03]\n",
      " [9.88810796e-01]\n",
      " [9.69421597e-01]\n",
      " [1.00448846e-02]\n",
      " [5.02758939e-01]]\n",
      "0.92\n"
     ]
    },
    {
     "data": {
      "image/png": "[encoded data removed]",
      "text/plain": [
       "<Figure size 432x288 with 1 Axes>"
      ]
     },
     "metadata": {
      "needs_background": "light"
     },
     "output_type": "display_data"
    }
   ],
   "source": [
    "W , b = artificial_neuron(X,y)"
   ]
  },
  {
   "cell_type": "code",
   "execution_count": 63,
   "id": "19746434",
   "metadata": {},
   "outputs": [
    {
     "data": {
      "image/png": "[encoded data removed]",
      "text/plain": [
       "<Figure size 432x288 with 1 Axes>"
      ]
     },
     "metadata": {
      "needs_background": "light"
     },
     "output_type": "display_data"
    }
   ],
   "source": [
    "new_plant = np.array([2,1])\n",
    "\n",
    "x0 = np.linspace(-1 , 4 , 100)\n",
    "x1 = (-W[0] * x0 - b) / W[1]\n",
    "\n",
    "plt.scatter(X[:,0],X[:,1],c=y,cmap = 'summer')\n",
    "plt.scatter(new_plant[0],new_plant[1],c = 'r')\n",
    "plt.plot(x0,x1,c='orange',lw = 3)\n",
    "plt.show()"
   ]
  },
  {
   "cell_type": "code",
   "execution_count": 64,
   "id": "a529004c",
   "metadata": {},
   "outputs": [
    {
     "name": "stdout",
     "output_type": "stream",
     "text": [
      "[0.90716468]\n"
     ]
    },
    {
     "data": {
      "text/plain": [
       "array([ True])"
      ]
     },
     "execution_count": 64,
     "metadata": {},
     "output_type": "execute_result"
    }
   ],
   "source": [
    "predict(new_plant,W,b)"
   ]
  },
  {
   "cell_type": "code",
   "execution_count": null,
   "id": "ec969bb3",
   "metadata": {},
   "outputs": [],
   "source": [
    "    "
   ]
  }
 ],
 "metadata": {
  "kernelspec": {
   "display_name": "Python 3 (ipykernel)",
   "language": "python",
   "name": "python3"
  },
  "language_info": {
   "codemirror_mode": {
    "name": "ipython",
    "version": 3
   },
   "file_extension": ".py",
   "mimetype": "text/x-python",
   "name": "python",
   "nbconvert_exporter": "python",
   "pygments_lexer": "ipython3",
   "version": "3.10.2"
  }
 },
 "nbformat": 4,
 "nbformat_minor": 5
}
